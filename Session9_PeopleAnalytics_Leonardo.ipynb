{
  "nbformat": 4,
  "nbformat_minor": 0,
  "metadata": {
    "colab": {
      "provenance": []
    },
    "language_info": {
      "codemirror_mode": {
        "name": "ipython",
        "version": 3
      },
      "file_extension": ".py",
      "mimetype": "text/x-python",
      "name": "python",
      "nbconvert_exporter": "python",
      "pygments_lexer": "ipython3",
      "version": "3.6.5"
    },
    "kernelspec": {
      "display_name": "Python 3",
      "language": "python",
      "name": "python3"
    }
  },
  "cells": [
    {
      "cell_type": "markdown",
      "metadata": {
        "id": "R29trUksE-0N"
      },
      "source": [
        "#SESSION 9: SOCIAL NETWORK ANALYSIS - DESIGN QUALITY OF MULTIPLEX GRAPH"
      ]
    },
    {
      "cell_type": "markdown",
      "metadata": {
        "id": "7NvpjtMUFEWF"
      },
      "source": [
        "## Step 1: Import Modules"
      ]
    },
    {
      "cell_type": "code",
      "metadata": {
        "id": "x7rlWtKjYooF"
      },
      "source": [
        "#ALGORITHM TO COMPUTE DESIGN QUALITY INDEX ON MULTI-PLEX GRAPH \n",
        "#Phanish Puranam & Julien Clement, 2017\n",
        "#Ver2.1\n",
        "\n",
        "import numpy as np\n",
        "import networkx as nx\n",
        "from xlrd import open_workbook\n",
        "import matplotlib.pyplot as plt\n",
        "import itertools\n",
        "\n",
        "plt.rcParams['figure.dpi'] = 125"
      ],
      "execution_count": null,
      "outputs": []
    },
    {
      "cell_type": "markdown",
      "metadata": {
        "id": "02Z836IPFK32"
      },
      "source": [
        "## Step 2: Upload the data file"
      ]
    },
    {
      "cell_type": "code",
      "source": [
        "##set the path to your data CSV file (Database.csv) and acces your data\n",
        "path = \"/davinci-1/work/crp/s3_network_chimera.xls\" # Use this when using Spyder, running with F5 and the csv file is in the same folder as the script (py)\n",
        "# create pandas df (I.E. dataframe) to store data, set the type of separator used in your CSV file\n",
        "df = pd.read_csv(path, sep = \",\")\n",
        "print(\"Data Imported\")"
      ],
      "metadata": {
        "id": "YbOyRoEOsmqo"
      },
      "execution_count": null,
      "outputs": []
    },
    {
      "cell_type": "markdown",
      "metadata": {
        "id": "nhJJEQOzFS9-"
      },
      "source": [
        "## Step 3: Transform existing data into \"clean\" matrixes"
      ]
    },
    {
      "cell_type": "code",
      "metadata": {
        "id": "3IKDuJEy7iG9"
      },
      "source": [
        "# Realized structure (who talks with who?)\n",
        "# Select the file\n",
        "filename = \"s3_network_chimera.xls\"\n",
        "wb = open_workbook(filename)\n",
        "#get one sheet of the excel file\n",
        "s = wb.sheet_by_index(0)\n",
        "\n",
        "##in the file it is 'communication structure'\n",
        "social_data = []\n",
        "for row in range(s.nrows):\n",
        "    row_list = []\n",
        "    for col in range(s.ncols):\n",
        "        row_list.append(s.cell(row,col).value)\n",
        "    social_data.append(row_list)\n",
        "\n",
        "##creates names label\n",
        "names_list = [x for x in social_data[0][1:]]\n",
        "name_labels={}\n",
        "for i in range(len(names_list)):\n",
        "    name_labels[i] = names_list[i]  ##dictionary that looks like this {0: 'Anne', 1: 'Bob', 2: 'Charlie'..\n",
        "\n",
        "##tranforms original matrix (fill in 0)\n",
        "social_data = [[x for x in row[1:]] for row in social_data[1:]]\n",
        "for i in range(len(social_data)):\n",
        "    for j in range(len(social_data[i])):\n",
        "        if social_data[i][j] == '':\n",
        "            social_data[i][j] = 0\n",
        "##transforms existing data into symmetric matrix\n",
        "        elif social_data[i][j] == 1:\n",
        "            social_data[j][i] = 1   \n",
        "social_structure = np.array(social_data)\n",
        "\n",
        "M = len(social_structure)\n",
        "\n",
        "\n",
        "# Authority structure (who has an authority relation with who?)\n",
        "#filename =\"s3_network_chimera.xlsx\"\n",
        "#wb = open_workbook(filename)\n",
        "s = wb.sheet_by_index(1)\n",
        "\n",
        "authority_data = []\n",
        "for row in range(s.nrows):\n",
        "    row_list = []\n",
        "    for col in range(s.ncols):\n",
        "        row_list.append(s.cell(row,col).value)\n",
        "    authority_data.append(row_list)\n",
        "\n",
        "##tranforms original matrix (fill in 0)\n",
        "authority_data = [[x for x in row[1:]] for row in authority_data[1:]]\n",
        "for i in range(len(authority_data)):\n",
        "    for j in range(len(authority_data[i])):\n",
        "        if authority_data[i][j] == '':\n",
        "            authority_data[i][j] = 0\n",
        "\n",
        "authority_structure = np.array(authority_data)\n",
        "\n",
        "\n",
        "# Common-boss network (who has a boss in common?)\n",
        "##creates an empty matrix\n",
        "common_boss_structure = np.zeros((M,M))\n",
        "for row in authority_structure:\n",
        "    ##isolate subordinates\n",
        "    subordinates = [i for i, x in enumerate(row) if x == 1]\n",
        "    ##creates all possible combination between subordinates \n",
        "    ##and define that tie = 1\n",
        "    for tie in itertools.combinations(subordinates, 2):\n",
        "        common_boss_structure[tie[0]][tie[1]] = 1\n",
        "        common_boss_structure[tie[1]][tie[0]] = 1\n",
        "        \n",
        "# Task structure \n",
        "#filename =\"s3_network_chimera.xlsx\"\n",
        "#wb = open_workbook(filename)\n",
        "s = wb.sheet_by_index(2)\n",
        "\n",
        "task_data = []\n",
        "for row in range(s.nrows):\n",
        "    row_list = []\n",
        "    for col in range(s.ncols):\n",
        "        row_list.append(s.cell(row,col).value)\n",
        "    task_data.append(row_list)\n",
        "\n",
        "task_data = [[x for x in row[1:]] for row in task_data[1:]]\n",
        "for i in range(len(task_data)):\n",
        "    for j in range(len(task_data[i])):\n",
        "        if task_data[i][j] == '':\n",
        "            task_data[i][j] = 0\n",
        "        elif task_data[i][j] == 1:\n",
        "            task_data[j][i] = 1\n",
        "task_structure = np.array(task_data)\n",
        "\n",
        "\n",
        "print (\"Ready to plot!\")"
      ],
      "execution_count": null,
      "outputs": []
    },
    {
      "cell_type": "markdown",
      "metadata": {
        "id": "FKc2T-Gk731N"
      },
      "source": [
        "## Step 4: Plot the network graphs"
      ]
    },
    {
      "cell_type": "code",
      "metadata": {
        "id": "ig5gs9by7vQv"
      },
      "source": [
        "# Task structure measures\n",
        "\n",
        "# Degree centrality in task structure\n",
        "G = nx.from_numpy_array(task_structure)\n",
        "degrees = nx.degree(G)\n",
        "#degrees_list = [degrees[x]+5 for x in range(len(degrees))]\n",
        "pos=nx.spring_layout(G)#, k=0.15)\n",
        "#colors=range(G.number_of_edges(u=None, v=None))\n",
        "nodes = nx.draw_networkx_nodes(G, pos,\n",
        "                                  node_color='#A0CBE2',\n",
        "                                  #cmap=plt.cm.coolwarm,\n",
        "                                  node_size=[(sum(task_structure[v])*3)**2 for v in range(len(degrees))],\n",
        "                                  label=None)\n",
        "nodes.set_edgecolor('white')\n",
        "edges = nx.draw_networkx_edges(G, pos,\n",
        "           edge_color='#d3d3d3',\n",
        "           width=1)\n",
        "labels = nx.draw_networkx_labels(G, pos, font_size=6, font_color='k', font_family='serif', font_weight='normal', alpha=1.0, labels=name_labels, ax=None)\n",
        "plt.grid(False)\n",
        "plt.axis('off')\n",
        "#plt.savefig(folder + \"task.png\", dpi=400)\n",
        "plt.show()"
      ],
      "execution_count": null,
      "outputs": []
    },
    {
      "cell_type": "code",
      "metadata": {
        "id": "a5u_h7nm7vZO"
      },
      "source": [
        "# Authority structure\n",
        "# Degree\n",
        "G = nx.from_numpy_array(authority_structure)\n",
        "degrees = nx.degree(G)\n",
        "##adapt size of each nodes according to degree (number of authority edges a node has)\n",
        "#degrees_list = [degrees[x]+5 for x in range(len(degrees))]\n",
        "##define position of each node through spring algorithm (otherwise node may look cluttered)\n",
        "pos=nx.spring_layout(G, k=0.15)\n",
        "#colors=range(G.number_of_edges(u=None, v=None))\n",
        "\n",
        "nodes = nx.draw_networkx_nodes(G, pos,\n",
        "                                  node_color='#A0CBE2',\n",
        "                                  #cmap=plt.cm.coolwarm,\n",
        "                                  node_size=[(sum(authority_structure[v])*3)**2 for v in range(len(degrees))],\n",
        "                                  label=None)\n",
        "nodes.set_edgecolor('white')\n",
        "edges = nx.draw_networkx_edges(G, pos,\n",
        "           edge_color='#d3d3d3',\n",
        "           width=1)\n",
        "labels = nx.draw_networkx_labels(G, pos, font_size=6, font_color='k', font_family='serif', font_weight='normal', alpha=1.0, labels=name_labels, ax=None)\n",
        "#plt.grid(False)\n",
        "plt.axis('off')\n",
        "#plt.savefig(folder + \"authority.png\", dpi=400)\n",
        "plt.show()"
      ],
      "execution_count": null,
      "outputs": []
    },
    {
      "cell_type": "code",
      "metadata": {
        "id": "cXpW78NI8CP4"
      },
      "source": [
        "# Degree centrality in common boss structure\n",
        "G = nx.from_numpy_array(common_boss_structure)\n",
        "degrees = nx.degree(G)\n",
        "degrees_list = [degrees[x]+5 for x in range(len(degrees))]\n",
        "pos=nx.spring_layout(G)\n",
        "#colors=range(G.number_of_edges(u=None, v=None))\n",
        "nodes = nx.draw_networkx_nodes(G, pos,\n",
        "                                  node_color='#A0CBE2',\n",
        "                                  #cmap=plt.cm.coolwarm,\n",
        "                                  node_size=[(sum(common_boss_structure[v])*2)**2 for v in range(len(degrees))],\n",
        "                                  label=None)\n",
        "nodes.set_edgecolor('white')\n",
        "edges = nx.draw_networkx_edges(G, pos,\n",
        "           edge_color='#d3d3d3',\n",
        "           width=1)\n",
        "labels = nx.draw_networkx_labels(G, pos, font_size=6, font_color='k', font_family='serif', font_weight='normal', alpha=1.0, labels=name_labels, ax=None)\n",
        "plt.grid(False)\n",
        "plt.axis('off')\n",
        "#plt.savefig(folder + \"common_boss.png\", dpi=400)\n",
        "plt.show()"
      ],
      "execution_count": null,
      "outputs": []
    },
    {
      "cell_type": "code",
      "metadata": {
        "id": "ojJmx6V78BA6"
      },
      "source": [
        "# Social structure measures\n",
        "\n",
        "# Degree Centrality\n",
        "G = nx.from_numpy_array(social_structure)\n",
        "degrees = nx.degree(G)\n",
        "\n",
        "degrees_list = [degrees[x]+5 for x in range(len(degrees))]\n",
        "pos=nx.spring_layout(G, k=0.15)\n",
        "colors=range(G.number_of_edges(u=None, v=None))\n",
        "nodes = nx.draw_networkx_nodes(G, pos,\n",
        "                                  node_color='#A0CBE2',\n",
        "                                  #cmap=plt.cm.coolwarm,\n",
        "                                  node_size=[(sum(social_structure[v])*3)**2 for v in range(len(degrees))],\n",
        "                                  label=None)\n",
        "nodes.set_edgecolor('white')\n",
        "edges = nx.draw_networkx_edges(G, pos,\n",
        "           edge_color='#d3d3d3',\n",
        "           width=1)\n",
        "labels = nx.draw_networkx_labels(G, pos, font_size=6, font_color='k', font_family='serif', font_weight='normal', alpha=1.0, labels=name_labels, ax=None)\n",
        "#plt.grid(False)\n",
        "plt.axis('off')\n",
        "#plt.savefig(folder + \"communication_degree.png\", dpi=400)\n",
        "plt.show()"
      ],
      "execution_count": null,
      "outputs": []
    },
    {
      "cell_type": "code",
      "metadata": {
        "id": "FaoVSxwO8CaZ"
      },
      "source": [
        "# Betweenness Centrality\n",
        "G = nx.from_numpy_array(social_structure)\n",
        "betweens = nx.betweenness_centrality(G)\n",
        "\n",
        "#betweens_list = [betweens[x]+5 for x in range(len(betweens))]\n",
        "pos=nx.spring_layout(G, k=0.15)\n",
        "#colors=range(G.number_of_edges(u=None, v=None))\n",
        "nodes = nx.draw_networkx_nodes(G, pos,\n",
        "                                  node_color='#A0CBE2',\n",
        "                                  #cmap=plt.cm.coolwarm,\n",
        "                                  node_size=[v*5000 for v in betweens.values()],\n",
        "                                  label=None)\n",
        "nodes.set_edgecolor('white')\n",
        "edges = nx.draw_networkx_edges(G, pos,\n",
        "           edge_color='#d3d3d3',\n",
        "           width=1)\n",
        "labels = nx.draw_networkx_labels(G, pos, font_size=6, font_color='k', font_family='serif', font_weight='normal', alpha=1.0, labels=name_labels, ax=None)\n",
        "#plt.grid(False)\n",
        "plt.axis('off')\n",
        "#plt.savefig(folder + \"communication_betweenness.png\", dpi=400)\n",
        "plt.show()"
      ],
      "execution_count": null,
      "outputs": []
    },
    {
      "cell_type": "markdown",
      "metadata": {
        "id": "AZn9CKwWFqUX"
      },
      "source": [
        "## Step 5: Identify omission and commission errors in organizational design "
      ]
    },
    {
      "cell_type": "markdown",
      "metadata": {
        "id": "9wIWQCQm4RrL"
      },
      "source": [
        "What next code is doing in creating match_matrix:\n",
        "\n",
        "*  Multiplies by 2 each cell of the original task structure (set value 2 for edges that have task interdependence)\n",
        "* Subtracts by 1 if the value of (original) task structure (0 or 1) is different than a boolean that is 1(True) if  the sum of social, authority and common boss > 0 or 0(False) if the sum of them is ==0\n",
        "\n",
        "If there is a task interdependence tie and it is \"covered\" by a social, authority or common boss tie the cell takes value 2\n",
        "\n",
        "If there is no task interdependence tie and it is correctly \"not covered\" by a social, authority or common boss tie the cell takes value 0\n",
        "\n",
        "If there is an omission error, the cell would be 1 \n",
        "\n",
        "If there is a commission error the cell would be -1"
      ]
    },
    {
      "cell_type": "code",
      "metadata": {
        "id": "PYK8tr018InE"
      },
      "source": [
        "##make authority data symmetric\n",
        "for i in range(len(authority_data)):\n",
        "    for j in range(len(authority_data[i])):\n",
        "        if authority_data[i][j] == '':\n",
        "            authority_data[i][j] = 0\n",
        "        elif authority_data[i][j] == 1:\n",
        "            authority_data[j][i] = 1\n",
        "authority_structure = np.array(authority_data)\n",
        "\n",
        "\n",
        "# Match between task structure and formal+realized social structure\n",
        "match_matrix = task_structure*2 - (task_structure!= ((authority_structure+social_structure+common_boss_structure)>0))\n",
        "np.fill_diagonal(match_matrix, 0)\n",
        "\n",
        "##creates two empty matrixes of the size correspondent to number of employees\n",
        "omission_matrix=np.zeros((M,M))\n",
        "comission_matrix=np.zeros((M,M))\n",
        "\n",
        "##populates omission matrix\n",
        "for i in range(M):\n",
        "    for j in range(M):\n",
        "        if match_matrix[i,j]==1:\n",
        "            omission_matrix[i,j]=1\n",
        "\n",
        "##populates commission matrix\n",
        "for i in range(M):\n",
        "    for j in range(M):\n",
        "        if match_matrix[i,j]==-1:\n",
        "            comission_matrix[i,j]=1\n",
        "\n",
        "##visualize omission matrix\n",
        "G = nx.from_numpy_array(omission_matrix, create_using=None)\n",
        "##set a circular layout visualization\n",
        "pos=nx.circular_layout(G)\n",
        "##select a subset of edges\n",
        "eom=[(u,v) for (u,v,d) in G.edges(data=True) if d['weight'] ==1]\n",
        "\n",
        "nx.draw_networkx_edges(G,pos,\n",
        "                       edgelist=eom,\n",
        "                       width=0.5,\n",
        "                       edge_color='red')\n",
        "\n",
        "##measures the amount of ties for each node that are correct and colors it accordingly\n",
        "node_weights = [len([x for x in y if x%2==0])-1 for y in match_matrix]\n",
        "node_weights = [x/(len(match_matrix)-1) for x in node_weights]\n",
        "# to save, change sixe to 500 and label fontsize to 4\n",
        "nodes = nx.draw_networkx_nodes(G, pos,\n",
        "                                  node_color=node_weights,\n",
        "                                  cmap='Greens',#plt.cm.RdYlBu,\n",
        "                                  node_size=1000,\n",
        "                                  label=None)\n",
        "nodes.set_edgecolor('white')\n",
        "\n",
        "labels = nx.draw_networkx_labels(G, pos, font_size=6, font_color='k', font_family='serif', font_weight='normal', alpha=1.0, labels=name_labels, ax=None)\n",
        "\n",
        "plt.grid(False)\n",
        "plt.axis('off')\n",
        "#plt.savefig(folder + \"task_match.png\", dpi=400)\n",
        "plt.show()\n",
        "print (\"Omission Errors: Missing links\")\n",
        "print()"
      ],
      "execution_count": null,
      "outputs": []
    },
    {
      "cell_type": "code",
      "metadata": {
        "id": "5Zp0zYd88Idc"
      },
      "source": [
        "G = nx.from_numpy_array(comission_matrix, create_using=None)\n",
        "pos=nx.circular_layout(G)\n",
        "ecomm=[(u,v) for (u,v,d) in G.edges(data=True) if d['weight'] ==1]\n",
        "\n",
        "nx.draw_networkx_edges(G,pos,\n",
        "                       edgelist=ecomm,\n",
        "                       width=0.5,\n",
        "                       edge_color='blue')\n",
        "\n",
        "##measures the amount of ties for each node that are correct and colors it accordingly\n",
        "node_weights = [len([x for x in y if x%2==0])-1 for y in match_matrix]\n",
        "node_weights = [x/(len(match_matrix)-1) for x in node_weights]\n",
        "# to save, change sixe to 500 and label fontsize to 4\n",
        "nodes = nx.draw_networkx_nodes(G, pos,\n",
        "                                  node_color=node_weights,\n",
        "                                  cmap='Greens',\n",
        "                                  node_size=1000,\n",
        "                                  label=None)\n",
        "nodes.set_edgecolor('white')\n",
        "\n",
        "labels = nx.draw_networkx_labels(G, pos, font_size=6, font_color='k', font_family='serif', font_weight='normal', alpha=1.0, labels=name_labels, ax=None)\n",
        "\n",
        "plt.grid(False)\n",
        "plt.axis('off')\n",
        "#plt.savefig(folder + \"task_match.png\", dpi=400)\n",
        "plt.show()\n",
        "print (\"Commission Errors: Surplus links\")\n",
        "print ()\n"
      ],
      "execution_count": null,
      "outputs": []
    },
    {
      "cell_type": "markdown",
      "metadata": {
        "id": "AuY6HEH8F8HQ"
      },
      "source": [
        "##Step 6: Compute Design Quality Index"
      ]
    },
    {
      "cell_type": "code",
      "metadata": {
        "id": "2ItR1GgKYooI"
      },
      "source": [
        "## Computing Design Quality Index\n",
        "\n",
        "omm=1 # Cost of omission error\n",
        "comm=0.5 #Cost of commission error\n",
        "##correct cells +1, omission errors cells -1, commission error cells (-0.5)##\n",
        "performance = (np.sum(match_matrix==2) + np.sum(match_matrix==0)-comm*np.sum(match_matrix==-1)-omm*np.sum(match_matrix==1))/float(M**2)\n",
        "print\n",
        "print(\"#################################################################################\")\n",
        "print(\"Design quality is computed by superposing interdependence with influence matrices\")\n",
        "print(\"Weight on omission error is= \" + str(omm))\n",
        "print(\"Weight on comission error is= \" + str(comm))\n",
        "print\n",
        "print(\"For current data, design quality index is \" + str(performance))\n",
        "print(\"#################################################################################\")\n",
        "\n"
      ],
      "execution_count": null,
      "outputs": []
    }
  ]
}